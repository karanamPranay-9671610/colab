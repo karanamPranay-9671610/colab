{
 "cells": [
  {
   "cell_type": "code",
   "execution_count": null,
   "id": "71d27bf0",
   "metadata": {},
   "outputs": [],
   "source": [
    "import uuid\n",
    "import os\n",
    "import glob\n",
    "def conversionUUID():\n",
    "    def rename_pdf_with_uuid(file_path):\n",
    "        new_file_path = os.path.join(os.path.dirname(file_path), str(uuid.uuid4()) + '.pdf')\n",
    "        os.rename(file_path, new_file_path)\n",
    "\n",
    "    folder_path = os.getcwd() + \"/Base_Folder/\"\n",
    "    file_pattern = \"*.pdf\"\n",
    "    file_list = glob.glob(folder_path + '/' + file_pattern)\n",
    "    for i in file_list:\n",
    "        new_file_path = rename_pdf_with_uuid(i)\n",
    "    return None"
   ]
  }
 ],
 "metadata": {
  "kernelspec": {
   "display_name": "Python 3 (ipykernel)",
   "language": "python",
   "name": "python3"
  },
  "language_info": {
   "codemirror_mode": {
    "name": "ipython",
    "version": 3
   },
   "file_extension": ".py",
   "mimetype": "text/x-python",
   "name": "python",
   "nbconvert_exporter": "python",
   "pygments_lexer": "ipython3",
   "version": "3.11.5"
  }
 },
 "nbformat": 4,
 "nbformat_minor": 5
}
