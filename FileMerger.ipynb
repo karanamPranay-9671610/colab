{
 "cells": [
  {
   "cell_type": "code",
   "execution_count": null,
   "id": "9c05c527",
   "metadata": {},
   "outputs": [],
   "source": [
    "import os\n",
    "import re\n",
    "import PyPDF2\n",
    "\n",
    "def pdf_merger(directories):\n",
    "    for input_directory, output_directory in directories.items():\n",
    "        pdf_dict = {}\n",
    "        os.makedirs(output_directory, exist_ok=True)\n",
    "        for filename in os.listdir(input_directory):\n",
    "            if filename.endswith(\".pdf\"):\n",
    "                base_name = re.sub(r'_page_\\d+', '', filename)\n",
    "                pdf_file_path = os.path.join(input_directory, filename)\n",
    "                if base_name not in pdf_dict:\n",
    "                    pdf_dict[base_name] = [pdf_file_path]\n",
    "                else:\n",
    "                    pdf_dict[base_name].append(pdf_file_path)\n",
    "\n",
    "        for base_name, pdf_files in pdf_dict.items():\n",
    "            pdf_writer = PyPDF2.PdfWriter()\n",
    "\n",
    "            for pdf_file_path in pdf_files:\n",
    "                pdf_reader = PyPDF2.PdfReader(pdf_file_path)\n",
    "                for page_num in range(len(pdf_reader.pages)):\n",
    "                    page = pdf_reader.pages[page_num]\n",
    "                    pdf_writer.add_page(page)\n",
    "\n",
    "            output_file = os.path.join(output_directory, f'{base_name}')\n",
    "            with open(output_file, 'wb') as output_pdf:\n",
    "                pdf_writer.write(output_pdf)\n",
    "\n",
    "            for pdf_file_path in pdf_files:\n",
    "                os.remove(pdf_file_path)\n"
   ]
  }
 ],
 "metadata": {
  "kernelspec": {
   "display_name": "Python 3 (ipykernel)",
   "language": "python",
   "name": "python3"
  },
  "language_info": {
   "codemirror_mode": {
    "name": "ipython",
    "version": 3
   },
   "file_extension": ".py",
   "mimetype": "text/x-python",
   "name": "python",
   "nbconvert_exporter": "python",
   "pygments_lexer": "ipython3",
   "version": "3.11.5"
  }
 },
 "nbformat": 4,
 "nbformat_minor": 5
}
