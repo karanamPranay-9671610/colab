{
 "cells": [
  {
   "cell_type": "code",
   "execution_count": null,
   "id": "337a108f",
   "metadata": {},
   "outputs": [],
   "source": [
    "from billofLading import BOL\n",
    "import os\n",
    "from ExtractDOCAI import ExtractDocAI\n",
    "\n",
    "def bol_extract(file):\n",
    "    filename = os.path.basename(file)\n",
    "    text = ExtractDocAI(file)\n",
    "    output = BOL(text, file, filename)\n",
    "    print(output)"
   ]
  }
 ],
 "metadata": {
  "kernelspec": {
   "display_name": "Python 3 (ipykernel)",
   "language": "python",
   "name": "python3"
  },
  "language_info": {
   "codemirror_mode": {
    "name": "ipython",
    "version": 3
   },
   "file_extension": ".py",
   "mimetype": "text/x-python",
   "name": "python",
   "nbconvert_exporter": "python",
   "pygments_lexer": "ipython3",
   "version": "3.11.5"
  }
 },
 "nbformat": 4,
 "nbformat_minor": 5
}
