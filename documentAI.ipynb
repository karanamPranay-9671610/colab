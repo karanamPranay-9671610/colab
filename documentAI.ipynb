{
 "cells": [
  {
   "cell_type": "code",
   "execution_count": null,
   "id": "2ab206f1",
   "metadata": {},
   "outputs": [],
   "source": [
    "import os\n",
    "from google.api_core.client_options import ClientOptions\n",
    "from google.cloud import documentai\n",
    "def docAI(file):\n",
    "    os.environ['GOOGLE_APPLICATION_CREDENTIALS'] = os.getcwd() + '/Vertex1.json'\n",
    "    PROJECT_ID = \"fluted-anthem-402505\"\n",
    "    LOCATION = \"eu\"  # Format is 'us' or 'eu'\n",
    "    PROCESSOR_ID = \"cb8b457cd930d03f\"  # Create processor in Cloud Console\n",
    "\n",
    "    FILE_PATH = file\n",
    "    MIME_TYPE = \"application/pdf\"\n",
    "\n",
    "    # Instantiates a client\n",
    "    docai_client = documentai.DocumentProcessorServiceClient(\n",
    "        client_options=ClientOptions(api_endpoint=f\"{LOCATION}-documentai.googleapis.com\")\n",
    "    )\n",
    "    RESOURCE_NAME = docai_client.processor_path(PROJECT_ID, LOCATION, PROCESSOR_ID)\n",
    "\n",
    "    # Read the file into memory\n",
    "    with open(FILE_PATH, \"rb\") as image:\n",
    "        image_content = image.read()\n",
    "\n",
    "    # Load Binary Data into Document AI RawDocument Object\n",
    "    raw_document = documentai.RawDocument(content=image_content, mime_type=MIME_TYPE)\n",
    "\n",
    "    # Configure the process request\n",
    "    request = documentai.ProcessRequest(name=RESOURCE_NAME, raw_document=raw_document)\n",
    "\n",
    "    # Use the Document AI client to process the sample form\n",
    "    result = docai_client.process_document(request=request)\n",
    "\n",
    "    document_object = result.document\n",
    "    text = document_object.text\n",
    "    return text\n"
   ]
  }
 ],
 "metadata": {
  "kernelspec": {
   "display_name": "Python 3 (ipykernel)",
   "language": "python",
   "name": "python3"
  },
  "language_info": {
   "codemirror_mode": {
    "name": "ipython",
    "version": 3
   },
   "file_extension": ".py",
   "mimetype": "text/x-python",
   "name": "python",
   "nbconvert_exporter": "python",
   "pygments_lexer": "ipython3",
   "version": "3.11.5"
  }
 },
 "nbformat": 4,
 "nbformat_minor": 5
}
