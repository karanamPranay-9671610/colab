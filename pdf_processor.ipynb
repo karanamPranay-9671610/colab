{
 "cells": [
  {
   "cell_type": "code",
   "execution_count": null,
   "id": "607177c0",
   "metadata": {},
   "outputs": [],
   "source": [
    "from ClassificationModel import model\n",
    "import os\n",
    "import shutil\n",
    "from documentAI import docAI\n",
    "\n",
    "def pdf_segregate(file):\n",
    "    filename = os.path.basename(file)\n",
    "    text = docAI(file)\n",
    "    pdf_type = model(text)\n",
    "    pdf_type = pdf_type.strip().lower()\n",
    "\n",
    "    if pdf_type == \"bol\":\n",
    "        folder_path = os.getcwd() + \"\\Classification\\/bill of lading\"\n",
    "        shutil.move(file, folder_path)\n",
    "\n",
    "    elif pdf_type == \"weight ticket\":\n",
    "        folder_path = os.getcwd() + \"\\Classification\\/Weight Ticket\"\n",
    "        shutil.move(file, folder_path)\n",
    "\n",
    "    elif pdf_type == \"cash receipt\":\n",
    "        folder_path = os.getcwd() + \"\\Classification\\/cash receipt\"\n",
    "        shutil.move(file, folder_path)\n",
    "\n",
    "    elif pdf_type == \"invoice\" or pdf_type == \"drayinv\":\n",
    "        folder_path = os.getcwd() + \"\\Classification\\/DrayInv\"\n",
    "        shutil.move(file, folder_path)\n",
    "\n",
    "    elif pdf_type == \"lumper\":\n",
    "        folder_path = os.getcwd() + \"\\Classification\\/Lumper\"\n",
    "        shutil.move(file, folder_path)\n",
    "\n",
    "    elif pdf_type == \"corresp\":\n",
    "        folder_path = os.getcwd() + \"\\Classification\\/Corresp\"\n",
    "        shutil.move(file, folder_path)\n",
    "\n",
    "    else:\n",
    "        folder_path = os.getcwd() + \"\\Classification\\/Attention\"\n",
    "        shutil.move(file, folder_path)  # MOVE THE FILE TO RESPECTIVE FOLDER PATH\n"
   ]
  }
 ],
 "metadata": {
  "kernelspec": {
   "display_name": "Python 3 (ipykernel)",
   "language": "python",
   "name": "python3"
  },
  "language_info": {
   "codemirror_mode": {
    "name": "ipython",
    "version": 3
   },
   "file_extension": ".py",
   "mimetype": "text/x-python",
   "name": "python",
   "nbconvert_exporter": "python",
   "pygments_lexer": "ipython3",
   "version": "3.11.5"
  }
 },
 "nbformat": 4,
 "nbformat_minor": 5
}
