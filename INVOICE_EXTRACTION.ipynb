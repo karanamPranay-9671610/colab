{
 "cells": [
  {
   "cell_type": "code",
   "execution_count": null,
   "id": "18463fe0",
   "metadata": {},
   "outputs": [],
   "source": [
    "import os\n",
    "import glob\n",
    "import multiprocessing\n",
    "from inv_main import inv_extract\n",
    "\n",
    "file_pattern = \"*.pdf\"\n",
    "drayinv_folder_path = os.getcwd() + \"/Final/DrayInv/\"\n",
    "inv_file_list = glob.glob(drayinv_folder_path + '/' + file_pattern)\n",
    "\n",
    "def inv_process_pdf(file):\n",
    "    inv_extract(file)\n",
    "\n",
    "def inv_main():\n",
    "    num_processes = 7\n",
    "    with multiprocessing.Pool(processes=num_processes) as pool:\n",
    "        results = pool.map(inv_process_pdf, inv_file_list)\n",
    "    pool.close()\n",
    "    pool.join()\n"
   ]
  }
 ],
 "metadata": {
  "kernelspec": {
   "display_name": "Python 3 (ipykernel)",
   "language": "python",
   "name": "python3"
  },
  "language_info": {
   "codemirror_mode": {
    "name": "ipython",
    "version": 3
   },
   "file_extension": ".py",
   "mimetype": "text/x-python",
   "name": "python",
   "nbconvert_exporter": "python",
   "pygments_lexer": "ipython3",
   "version": "3.11.5"
  }
 },
 "nbformat": 4,
 "nbformat_minor": 5
}
