{
 "cells": [
  {
   "cell_type": "code",
   "execution_count": null,
   "id": "107d1f51",
   "metadata": {},
   "outputs": [],
   "source": [
    "import os\n",
    "import glob\n",
    "import multiprocessing\n",
    "from bol_main import bol_extract\n",
    "\n",
    "file_pattern = \"*.pdf\"\n",
    "bol_folder_path = os.getcwd() + \"/Final/Bill of Lading/\"\n",
    "bol_file_list = glob.glob(bol_folder_path + '/' + file_pattern)\n",
    "\n",
    "def bol_process_pdf(file):\n",
    "    bol_extract(file)\n",
    "\n",
    "def bol_main():\n",
    "    num_processes = 7\n",
    "    # start_time = time.time()\n",
    "    with multiprocessing.Pool(processes=num_processes) as pool:\n",
    "        results = pool.map(bol_process_pdf, bol_file_list)\n",
    "    pool.close()\n",
    "    pool.join()\n"
   ]
  }
 ],
 "metadata": {
  "kernelspec": {
   "display_name": "Python 3 (ipykernel)",
   "language": "python",
   "name": "python3"
  },
  "language_info": {
   "codemirror_mode": {
    "name": "ipython",
    "version": 3
   },
   "file_extension": ".py",
   "mimetype": "text/x-python",
   "name": "python",
   "nbconvert_exporter": "python",
   "pygments_lexer": "ipython3",
   "version": "3.11.5"
  }
 },
 "nbformat": 4,
 "nbformat_minor": 5
}
