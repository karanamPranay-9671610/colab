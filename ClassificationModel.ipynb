{
 "cells": [
  {
   "cell_type": "code",
   "execution_count": null,
   "id": "52d58c76",
   "metadata": {},
   "outputs": [],
   "source": [
    "import os\n",
    "import vertexai\n",
    "from vertexai.language_models import TextGenerationModel\n",
    "def model(text):\n",
    "    os.environ[\"GOOGLE_APPLICATION_CREDENTIALS\"] = \"Vertex1.json\"\n",
    "    vertexai.init(project=\"fluted-anthem-402505\", location=\"us-central1\")\n",
    "\n",
    "    model_prediction = TextGenerationModel.from_pretrained(\"text-bison\")\n",
    "    parameters = {\n",
    "        \"temperature\": 0.2,\n",
    "        \"max_output_tokens\": 2048,\n",
    "        \"top_p\": 0.8,\n",
    "        \"top_k\": 30\n",
    "    }\n",
    "    prompt = \"\"\"\n",
    "    You are a full trained document summariser, you are trained to identify all the logistics documents.\n",
    "    The output should only be the document type.\n",
    "    Identify the document type with the help of the following keys in the document.\n",
    "    If the document has billing for the services offered to trucks classify them as \"Cash Receipt\" document.//washout \n",
    "    bills, fuel bills, any service related bills.\n",
    "    If the document is intended to show the truck weight or gross weight classify it as \"Weight Ticket\" document.//gross \n",
    "    weight, truck weight, empty truck\n",
    "    if the document Consists of \"Invoice\",Invoice Date\",\"Reason for impound\",\"Impound Invoice\" as headers classify the document as \"Invoice\" document.\n",
    "    If the document has load details and linehaul details classify them as \"Draylnv\" document.\n",
    "    if the document has the header with Invoice classify them as \"Invoice\" document.\n",
    "    If the document is related to loading and unloading charges then classify the same as \"Lumper\" document.\n",
    "    If the document has PACKING LIST as a header then classify the same a \"BOL\" document.\n",
    "    If the document has tables and if the tables has headers related to BOL then classify as \"BOL\" document\n",
    "    If the document has table having Origin code or Country of Origin or orig Curr ECCN Code as one of the headers then \n",
    "    classify it as BOL document.\n",
    "    If the document is in foreign language classify them under BOL document.\n",
    "    If the document has FLEET LTL NNETWORK MANIFEST classify them as BOL document.\n",
    "    If the document has information related to Truck seal then process the same as \"BOL\" document.\n",
    "    If the document has strip bill as the header then mark the same as a \"BOL\" document.\n",
    "    If the document has Bill of Lading as document header or if BOL number is printed in the document, classify them as \"BOL\" document.\n",
    "    If the document has only the following key words \"Carrier Confirmation\", \"Driving Directions\",\"Terms and Conditions\",//\n",
    "    \"QuickPay\",\"Cash Advances\",\"Rate Agreement\",\"Carrier Services\",\"Detention Payment\",\"Carrier Acceptance\" \"ATTN\",\"Accounts Payable Manager\" or if the//\n",
    "    documents are identified as letters, Payment related requests classify them as \"Corresp\" documents.\n",
    "    if the document consists of \"Carrier Services\",\"Comments\",\"Rate Agreement\",\"Detention Payment\",\"Submitting Required Documents at EMPTY CALL\",\"Shipper ID\", \"Cash Advances\",\"QuickPay\",\"Paperwork\" or identified as an \"letter\" Classify the document as \"Corresp\" document.\n",
    "    If the document has address and other load information if the key words related to Corresp is present then mark them as Corresp documents only.\n",
    "    \"\"\"\n",
    "    # Getting response from the model\n",
    "    response = model_prediction.predict(prompt + text, **parameters)\n",
    "    return response.text"
   ]
  }
 ],
 "metadata": {
  "kernelspec": {
   "display_name": "Python 3 (ipykernel)",
   "language": "python",
   "name": "python3"
  },
  "language_info": {
   "codemirror_mode": {
    "name": "ipython",
    "version": 3
   },
   "file_extension": ".py",
   "mimetype": "text/x-python",
   "name": "python",
   "nbconvert_exporter": "python",
   "pygments_lexer": "ipython3",
   "version": "3.11.5"
  }
 },
 "nbformat": 4,
 "nbformat_minor": 5
}
