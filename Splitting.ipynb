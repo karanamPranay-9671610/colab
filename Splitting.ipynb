{
 "cells": [
  {
   "cell_type": "code",
   "execution_count": null,
   "id": "aaf2854d",
   "metadata": {},
   "outputs": [],
   "source": [
    "import os\n",
    "import shutil\n",
    "from PyPDF2 import PdfReader\n",
    "from PyPDF2 import PdfWriter\n",
    "import glob\n",
    "\n",
    "def split():\n",
    "    path = os.getcwd() + '/Base_Folder/*.pdf'\n",
    "    files = glob.glob(path)\n",
    "\n",
    "    def split_pdf_1(pdf_path):\n",
    "        with open(pdf_path, \"rb\") as f:\n",
    "            reader = PdfReader(f)\n",
    "            # get all pages\n",
    "            for page_num in range(0, len(reader.pages)):  # loop through pages\n",
    "                selected_page = reader.pages[page_num]\n",
    "                # Writer to write\n",
    "                writer = PdfWriter()\n",
    "                writer.add_page(selected_page)  # add/embedding of the page\n",
    "                filename = os.path.splitext(pdf_path)[0]\n",
    "                output_dir = os.path.join(os.path.dirname(pdf_path), filename)\n",
    "                output_filename = os.path.join(output_dir, f\"{filename}_page_{page_num + 1}.pdf\")\n",
    "                # save and compile to pdf\n",
    "                with open(output_filename, \"wb\") as out:\n",
    "                    writer.write(out)\n",
    "                print(\"created a pdf:{}\".format(output_filename))\n",
    "                folder_path = os.getcwd() + \"/Split Folder/\"\n",
    "                shutil.move(output_filename, folder_path)\n",
    "\n",
    "    for i in files:\n",
    "        split_pdf_1(i)\n",
    "        os.remove(i)\n",
    "    return None"
   ]
  }
 ],
 "metadata": {
  "kernelspec": {
   "display_name": "Python 3 (ipykernel)",
   "language": "python",
   "name": "python3"
  },
  "language_info": {
   "codemirror_mode": {
    "name": "ipython",
    "version": 3
   },
   "file_extension": ".py",
   "mimetype": "text/x-python",
   "name": "python",
   "nbconvert_exporter": "python",
   "pygments_lexer": "ipython3",
   "version": "3.11.5"
  }
 },
 "nbformat": 4,
 "nbformat_minor": 5
}
