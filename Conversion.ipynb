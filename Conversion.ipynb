{
 "cells": [
  {
   "cell_type": "code",
   "execution_count": null,
   "id": "1086f6f4",
   "metadata": {},
   "outputs": [],
   "source": [
    "import os\n",
    "import img2pdf\n",
    "\n",
    "def convert_tiff_folder_to_pdf(input_folder, output_folder):\n",
    "    \"\"\"\n",
    "    :param input_folder: the folder which contains the tif files\n",
    "    :param output_folder: the folder where we can push the converted tif - pdf file.\n",
    "    \"\"\"\n",
    "    tiff_files = [f for f in os.listdir(input_folder) if f.lower().endswith(\".tif\")]\n",
    "\n",
    "    for tiff_file in tiff_files:\n",
    "        input_tiff_path = os.path.join(input_folder, tiff_file)\n",
    "        output_pdf_path = os.path.join(output_folder, os.path.splitext(tiff_file)[0] + \".pdf\")\n",
    "\n",
    "        with open(input_tiff_path, \"rb\") as tif_file:  # Convert TIFF data to PDF data\n",
    "            pdf_data = img2pdf.convert(tif_file)\n",
    "\n",
    "        with open(output_pdf_path, \"wb\") as pdf_file:  # Write the PDF data to the output PDF file\n",
    "            pdf_file.write(pdf_data)\n",
    "\n",
    "        os.remove(input_tiff_path)\n"
   ]
  }
 ],
 "metadata": {
  "kernelspec": {
   "display_name": "Python 3 (ipykernel)",
   "language": "python",
   "name": "python3"
  },
  "language_info": {
   "codemirror_mode": {
    "name": "ipython",
    "version": 3
   },
   "file_extension": ".py",
   "mimetype": "text/x-python",
   "name": "python",
   "nbconvert_exporter": "python",
   "pygments_lexer": "ipython3",
   "version": "3.11.5"
  }
 },
 "nbformat": 4,
 "nbformat_minor": 5
}
